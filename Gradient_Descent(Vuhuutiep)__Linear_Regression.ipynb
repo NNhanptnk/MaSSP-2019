{
  "nbformat": 4,
  "nbformat_minor": 0,
  "metadata": {
    "colab": {
      "name": "Gradient Descent(Vuhuutiep)_ Linear Regression.ipynb",
      "version": "0.3.2",
      "provenance": [],
      "include_colab_link": true
    },
    "kernelspec": {
      "name": "python3",
      "display_name": "Python 3"
    }
  },
  "cells": [
    {
      "cell_type": "markdown",
      "metadata": {
        "id": "view-in-github",
        "colab_type": "text"
      },
      "source": [
        "<a href=\"https://colab.research.google.com/github/NNhanptnk/MaSSP-2019/blob/master/Gradient_Descent(Vuhuutiep)__Linear_Regression.ipynb\" target=\"_parent\"><img src=\"https://colab.research.google.com/assets/colab-badge.svg\" alt=\"Open In Colab\"/></a>"
      ]
    },
    {
      "cell_type": "code",
      "metadata": {
        "id": "JD0ZQ55q_4SB",
        "colab_type": "code",
        "colab": {}
      },
      "source": [
        "from __future__ import division, print_function, unicode_literals ## Thư viện hỗ trợ python_2,python_3 \n",
        "import numpy as np ##Thư viện numpy\n",
        "import matplotlib ## Thư viện matplotlib\n",
        "import matplotlib.pyplot as plt ##Lấy func plot của thư viện matplotlib\n",
        "np.random.seed(2) ## Random "
      ],
      "execution_count": 0,
      "outputs": []
    },
    {
      "cell_type": "code",
      "metadata": {
        "id": "eKalImLzRI__",
        "colab_type": "code",
        "colab": {}
      },
      "source": [
        "def grad(w):\n",
        "    N = Xbar.shape[0]\n",
        "    return 1/N * Xbar.T.dot(Xbar.dot(w) - y)\n",
        "\n",
        "def cost(w):\n",
        "    N = Xbar.shape[0]\n",
        "    return .5/N*np.linalg.norm(y - Xbar.dot(w), 2)**2;\n",
        "\n",
        "def numerical_grad(w, cost):\n",
        "    eps = 1e-4\n",
        "    g = np.zeros_like(w)\n",
        "    for i in range(len(w)):\n",
        "        w_p = w.copy()\n",
        "        w_n = w.copy()\n",
        "        w_p[i] += eps \n",
        "        w_n[i] -= eps\n",
        "        g[i] = (cost(w_p) - cost(w_n))/(2*eps)\n",
        "    return g \n",
        "\n",
        "def check_grad(w, cost, grad):\n",
        "    w = np.random.rand(w.shape[0], w.shape[1])\n",
        "    grad1 = grad(w)\n",
        "    grad2 = numerical_grad(w, cost)\n",
        "    return True if np.linalg.norm(grad1 - grad2) < 1e-6 else False "
      ],
      "execution_count": 0,
      "outputs": []
    },
    {
      "cell_type": "code",
      "metadata": {
        "id": "CK2g1fBDROVA",
        "colab_type": "code",
        "colab": {
          "base_uri": "https://localhost:8080/",
          "height": 286
        },
        "outputId": "6c48da1b-6e1d-4747-f19a-dc40caf32726"
      },
      "source": [
        "def myGD(w_init, grad, eta):\n",
        "    w = [w_init]\n",
        "    for it in range(100):\n",
        "        w_new = w[-1] - eta*grad(w[-1])\n",
        "        if np.linalg.norm(grad(w_new))/len(w_new) < 1e-3:\n",
        "            break \n",
        "        w.append(w_new)\n",
        "    return (w, it) \n",
        "\n",
        "w_init = np.array([[2], [1]])\n",
        "(w1, it1) = myGD(w_init, grad, 1)\n",
        "print(w)\n",
        "# Display result\n",
        "w=w1[-1]\n",
        "w_0 = w[0][0]\n",
        "w_1 = w[1][0]\n",
        "x0 = np.linspace(0, 1, 2, endpoint=True) ## Điểm \n",
        "y0 = w_0 + w_1*x0 ## Đường thẳng\n",
        "\n",
        "# Draw the fitting line \n",
        "plt.plot(X.T, y.T, 'b.')     # data \n",
        "plt.plot(x0, y0, 'y', linewidth = 2)   # the fitting line\n",
        "plt.axis([0, 1, 0, 10]) ## Vẽ trục \n",
        "plt.show()"
      ],
      "execution_count": 33,
      "outputs": [
        {
          "output_type": "stream",
          "text": [
            "[[4.02199496 2.95380036]]\n"
          ],
          "name": "stdout"
        },
        {
          "output_type": "display_data",
          "data": {
            "image/png": "[encoded data removed]",
            "text/plain": [
              "<Figure size 432x288 with 1 Axes>"
            ]
          },
          "metadata": {
            "tags": []
          }
        }
      ]
    }
  ]
}